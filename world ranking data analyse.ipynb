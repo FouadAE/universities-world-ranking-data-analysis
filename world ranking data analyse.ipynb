{
 "cells": [
  {
   "cell_type": "markdown",
   "id": "130d731e",
   "metadata": {},
   "source": [
    "# <font color='red'><center>Code Source Projet Analyse de Données</center></font>\n"
   ]
  },
  {
   "cell_type": "markdown",
   "id": "1025bbba",
   "metadata": {},
   "source": [
    "## <center>Prétraitement des données</center>"
   ]
  },
  {
   "cell_type": "markdown",
   "id": "a56806b7",
   "metadata": {},
   "source": [
    "### <font color='blue'>Lecture des données</font>"
   ]
  },
  {
   "cell_type": "code",
   "execution_count": null,
   "id": "9799b066",
   "metadata": {
    "scrolled": false
   },
   "outputs": [],
   "source": [
    "#librairies à importer\n",
    "import numpy as np\n",
    "import pandas as pd\n",
    "import plotly as py\n",
    "import plotly.graph_objs as go\n",
    "from plotly.offline import iplot\n",
    "import matplotlib.pyplot as plt\n",
    "\n",
    "#Lecture des données\n",
    "X = pd.read_csv(\"timesData.csv\")\n",
    "X"
   ]
  },
  {
   "cell_type": "markdown",
   "id": "7d4b2c5a",
   "metadata": {},
   "source": [
    "### <font color='blue'>Nettoyage des données</font>"
   ]
  },
  {
   "cell_type": "code",
   "execution_count": null,
   "id": "29c11035",
   "metadata": {},
   "outputs": [],
   "source": [
    "#Les informations sur les variables avant le nettoyage\n",
    "def info():\n",
    "    inf = pd.DataFrame(index=X.columns)\n",
    "    inf['null_count'] = X.isnull().sum()\n",
    "    inf['unique_count'] = X.nunique()\n",
    "    inf['data_type'] = X.dtypes\n",
    "\n",
    "    return inf\n",
    "info()"
   ]
  },
  {
   "cell_type": "code",
   "execution_count": 25,
   "id": "d9a81bd5",
   "metadata": {},
   "outputs": [],
   "source": [
    "#Suppression des colonnes non désirées\n",
    "to_drop=['student_staff_ratio','international_students','female_male_ratio']\n",
    "X.drop(to_drop, inplace=True, axis=1)"
   ]
  },
  {
   "cell_type": "code",
   "execution_count": 26,
   "id": "3d43d4f9",
   "metadata": {},
   "outputs": [],
   "source": [
    "df=X[X['year']>=2016]\n"
   ]
  },
  {
   "cell_type": "code",
   "execution_count": 27,
   "id": "500ce683",
   "metadata": {},
   "outputs": [],
   "source": [
    "#Suppression des valeurs nulles\n",
    "df=df.dropna()"
   ]
  },
  {
   "cell_type": "code",
   "execution_count": 28,
   "id": "18dc642a",
   "metadata": {},
   "outputs": [],
   "source": [
    "#Convertir les variables num_students et income en variable numérique\n",
    "df['num_students'] = df.num_students.apply(lambda x: x.replace(',', '.'))\n",
    "df['num_students'] = pd.to_numeric(df['num_students'])\n",
    "df['income'] = df.income.apply(lambda x: x.strip('-'))\n",
    "df['income'] = pd.to_numeric(df['income'])\n"
   ]
  },
  {
   "cell_type": "code",
   "execution_count": 29,
   "id": "62f92688",
   "metadata": {},
   "outputs": [],
   "source": [
    "df=df.head(150)"
   ]
  },
  {
   "cell_type": "code",
   "execution_count": 30,
   "id": "fdb2b145",
   "metadata": {},
   "outputs": [],
   "source": [
    "#Arrangement de la variable world_rank\n",
    "df[\"world_rank\"]=range(1,151)\n"
   ]
  },
  {
   "cell_type": "code",
   "execution_count": null,
   "id": "f536c730",
   "metadata": {},
   "outputs": [],
   "source": [
    "df"
   ]
  },
  {
   "cell_type": "code",
   "execution_count": null,
   "id": "6f61f66c",
   "metadata": {},
   "outputs": [],
   "source": [
    "#Les informations sur les variable après nettoyage\n",
    "def info():\n",
    "    inf = pd.DataFrame(index=df.columns)\n",
    "    inf['null_count'] = df.isnull().sum()\n",
    "    inf['unique_count'] = df.nunique()\n",
    "    inf['data_type'] = df.dtypes\n",
    "\n",
    "    return inf\n",
    "info()"
   ]
  },
  {
   "cell_type": "markdown",
   "id": "e1d5b364",
   "metadata": {},
   "source": [
    "### <font color='blue'>Visualisation des données</font>"
   ]
  },
  {
   "cell_type": "code",
   "execution_count": null,
   "id": "af0b7a2f",
   "metadata": {},
   "outputs": [],
   "source": [
    "#Diagramme à bandes : Citations, enseignement et recherche des 3 meilleures universités en 2016 \n",
    "\n",
    "df1 = df.iloc[:3,:]\n",
    "x = df1.university_name\n",
    "\n",
    "trace1 = {\n",
    "  'x': x,\n",
    "  'y': df1.citations,\n",
    "  'name': 'citation',\n",
    "  'type': 'bar',\n",
    "  'marker':dict(color='#770737'),\n",
    "  'text': df1.citations,\n",
    "};\n",
    "trace2 = {\n",
    "  'x': x,\n",
    "  'y': df1.teaching,\n",
    "  'name': 'teaching',\n",
    "  'type': 'bar',\n",
    "  'marker':dict(color=\"#9f5173\"),\n",
    "  'text': df1.teaching,\n",
    "};\n",
    "trace3 = {\n",
    "    'x':x,\n",
    "    'y':df1.research,\n",
    "    'name':'research',\n",
    "    'marker':dict(color='#d6b4c3'),\n",
    "      'type':\"bar\",\n",
    "    'text': df1.research\n",
    "}\n",
    "data = [trace1, trace2, trace3];\n",
    "layout = {\n",
    "  'xaxis': {'title': 'Top 3 universities'},\n",
    "  'barmode': 'relative',\n",
    "  'title': 'citations, teaching and research of top 3 universities in 2016',\n",
    "  'template' : 'plotly_white'\n",
    "};\n",
    "fig = go.Figure(data = data, layout = layout)\n",
    "fig.update_traces(textposition='inside')\n",
    "fig\n"
   ]
  },
  {
   "cell_type": "code",
   "execution_count": null,
   "id": "c2120fa5",
   "metadata": {},
   "outputs": [],
   "source": [
    "#Diagramme circulaire : Taux des étudiants des 10 meilleures universités en 2016\n",
    "#installation de plotly est important\n",
    "\n",
    "df2 = df.iloc[:10,:]\n",
    "pie_list = [\n",
    "    float(val) \n",
    "    for val in df2.num_students\n",
    "] \n",
    "# another mehtod to directly create a figure\n",
    "fig = {\n",
    "  \"data\": [\n",
    "    {\n",
    "      \"values\": pie_list,\n",
    "      \"labels\": df2.university_name,\n",
    "      \"hoverinfo\":\"label+percent+name\",\n",
    "      \"hole\": .3,\n",
    "      \"type\": \"pie\"\n",
    "    },],\n",
    "  \"layout\": {\n",
    "        \"title\":\"Students rates of top 10 universities in 2016\",\n",
    "        \"annotations\": [\n",
    "            { \"font\": { \"size\": 15},\n",
    "              \"showarrow\": False,\n",
    "              \"text\": \"Number of Students\",\n",
    "            },\n",
    "        ]\n",
    "    }\n",
    "}\n",
    "iplot(fig)"
   ]
  },
  {
   "cell_type": "code",
   "execution_count": null,
   "id": "8f2127c2",
   "metadata": {},
   "outputs": [],
   "source": [
    "# Nuage des mots des pays cités en 2016\n",
    "#installation de librairie WorldCould\n",
    "from wordcloud import WordCloud\n",
    "df3 = df.country\n",
    "plt.subplots(figsize=(10,10))\n",
    "wordcloud = WordCloud(background_color='white',).generate(\" \".join(df3))\n",
    "plt.imshow(wordcloud)\n",
    "plt.axis('off')\n",
    "plt.show()"
   ]
  },
  {
   "cell_type": "markdown",
   "id": "8c00b709",
   "metadata": {},
   "source": [
    "## <center>Analyse des données</center>"
   ]
  },
  {
   "cell_type": "markdown",
   "id": "8c1b209e",
   "metadata": {},
   "source": [
    "## <font color='blue'>Méthode de régression linéaire</font>"
   ]
  },
  {
   "cell_type": "code",
   "execution_count": null,
   "id": "008cfee7",
   "metadata": {},
   "outputs": [],
   "source": [
    "#On cherche s'il existe une relation entre research et teaching\n",
    "from numpy.random import randn\n",
    "X = df['research'].values\n",
    "Y = df['teaching'].values\n",
    "\n",
    "# Affichage du nuage de points\n",
    "plt.title(\"Research vs Teaching (Testing set)\")\n",
    "plt.xlabel(\"research\")\n",
    "plt.ylabel(\"Teaching\")\n",
    "plt.scatter(X,Y)\n"
   ]
  },
  {
   "cell_type": "code",
   "execution_count": 39,
   "id": "50621d1d",
   "metadata": {},
   "outputs": [
    {
     "name": "stdout",
     "output_type": "stream",
     "text": [
      "coefficient de correlation = 0.8811320101289077\n"
     ]
    }
   ],
   "source": [
    "#Coefficient de corrélation\n",
    "from scipy.stats import pearsonr\n",
    "coeff_pearson,_ = pearsonr(X,Y)\n",
    "print(\"coefficient de correlation = {}\".format(coeff_pearson))"
   ]
  },
  {
   "cell_type": "code",
   "execution_count": null,
   "id": "a127f684",
   "metadata": {},
   "outputs": [],
   "source": [
    "#Application de la régression linéaire\n",
    "\n",
    "from sklearn.linear_model import LinearRegression\n",
    "from sklearn.preprocessing import PolynomialFeatures\n",
    "lm = LinearRegression()\n",
    "X = df[['research']].values\n",
    "Y = df['teaching'].values\n",
    "lm.fit(X,Y)\n",
    "Ypred=lm.predict(X)\n",
    "plt.title(\"Research vs Teaching (Testing set)\")\n",
    "plt.xlabel(\"research\")\n",
    "plt.ylabel(\"Teaching\")\n",
    "\n",
    "print(\"l'intercept est: \",lm.intercept_)\n",
    "print(\"la pente est: \",lm.coef_)\n",
    "\n",
    "#Affichage de nuage des points et de la ligne de régression\n",
    "plt.plot(X, Y,'o')\n",
    "plt.plot(X, Ypred, color = \"red\")\n"
   ]
  },
  {
   "cell_type": "markdown",
   "id": "e2f10b3c",
   "metadata": {},
   "source": [
    "## <font color='blue'>Méthode ACP</font>"
   ]
  },
  {
   "cell_type": "code",
   "execution_count": null,
   "id": "f70a8eca",
   "metadata": {},
   "outputs": [],
   "source": [
    "#installation de package fanalysis\n",
    "#importer la classe de calcul\n",
    "from fanalysis.pca import PCA\n",
    "\n",
    "#Data frame d'ACP contient les variables numériques\n",
    "newdata = {\n",
    "    \"teaching\" : df['teaching'], \n",
    "    \"research\" : df['research'],\n",
    "    \"citations\" : df['citations'],\n",
    "    \"income\" : df['income'],\n",
    "}\n",
    "df_acp = pd.DataFrame(newdata)\n",
    "\n",
    "#nombre d'observations\n",
    "df_acp.shape\n"
   ]
  },
  {
   "cell_type": "code",
   "execution_count": null,
   "id": "a32863c2",
   "metadata": {},
   "outputs": [],
   "source": [
    "#Matrice de corrélation\n",
    "df_acp.corr()"
   ]
  },
  {
   "cell_type": "code",
   "execution_count": null,
   "id": "5309ecf5",
   "metadata": {},
   "outputs": [],
   "source": [
    "#instancier l'objet de calcul\n",
    "my_pca = PCA(std_unit=True, row_labels=df_acp.index.values , col_labels=df_acp.columns.values)\n",
    "\n",
    "#Lancement des calculs\n",
    "X1 = df_acp.to_numpy()\n",
    "my_pca.fit(X1)\n"
   ]
  },
  {
   "cell_type": "markdown",
   "id": "e6ff5494",
   "metadata": {},
   "source": [
    "##### Analyse des valeurs propres\n"
   ]
  },
  {
   "cell_type": "code",
   "execution_count": null,
   "id": "b01dee8f",
   "metadata": {},
   "outputs": [],
   "source": [
    "#Les valeurs propres\n",
    "print(my_pca.eig_)\n"
   ]
  },
  {
   "cell_type": "code",
   "execution_count": null,
   "id": "193a7fb4",
   "metadata": {},
   "outputs": [],
   "source": [
    "#les valeurs propres en valeur absolue\n",
    "my_pca.plot_eigenvalues()"
   ]
  },
  {
   "cell_type": "code",
   "execution_count": null,
   "id": "72c8cf4a",
   "metadata": {},
   "outputs": [],
   "source": [
    "#les valeurs propres en pourcentage de la variance totale\n",
    "my_pca.plot_eigenvalues(type=\"percentage\")\n"
   ]
  },
  {
   "cell_type": "code",
   "execution_count": null,
   "id": "9f377d88",
   "metadata": {},
   "outputs": [],
   "source": [
    "#les valeurs propres en pourcentage cumulé de la variance totale\n",
    "my_pca.plot_eigenvalues(type=\"cumulative\")\n"
   ]
  },
  {
   "cell_type": "markdown",
   "id": "32add73c",
   "metadata": {},
   "source": [
    "##### Extraction des statistiques sur les points colonnes\n"
   ]
  },
  {
   "cell_type": "code",
   "execution_count": null,
   "id": "758380f6",
   "metadata": {},
   "outputs": [],
   "source": [
    "#statistiques pour les points colonnes\n",
    "df_cols = my_pca.col_topandas()\n",
    "df_cols"
   ]
  },
  {
   "cell_type": "markdown",
   "id": "4863dc54",
   "metadata": {},
   "source": [
    "##### Extraction des statistiques sur les points lignes\n"
   ]
  },
  {
   "cell_type": "code",
   "execution_count": null,
   "id": "c8855bf1",
   "metadata": {},
   "outputs": [],
   "source": [
    "#statistiques pour les points colonnes\n",
    "df_rows = my_pca.row_topandas()\n",
    "df_rows"
   ]
  },
  {
   "cell_type": "code",
   "execution_count": null,
   "id": "5762f343",
   "metadata": {},
   "outputs": [],
   "source": [
    "# Classement des points lignes en fonction de leur contribution au 1er axe\n",
    "my_pca.plot_row_contrib(num_axis=1, nb_values=10)\n"
   ]
  },
  {
   "cell_type": "code",
   "execution_count": null,
   "id": "195727eb",
   "metadata": {},
   "outputs": [],
   "source": [
    "# Classement des points lignes en fonction de leur cos2 sur le 1er axe\n",
    "my_pca.plot_row_cos2(num_axis=1, nb_values=10)\n"
   ]
  },
  {
   "cell_type": "code",
   "execution_count": null,
   "id": "46d7b5da",
   "metadata": {},
   "outputs": [],
   "source": [
    "# Classement des points lignes en fonction de leur contribution au 2eme axe\n",
    "my_pca.plot_row_contrib(num_axis=2, nb_values=10)\n"
   ]
  },
  {
   "cell_type": "code",
   "execution_count": null,
   "id": "61fad5ee",
   "metadata": {},
   "outputs": [],
   "source": [
    "# Classement des points lignes en fonction de leur cos2 sur le 2eme axe\n",
    "my_pca.plot_row_cos2(num_axis=2, nb_values=10)\n"
   ]
  },
  {
   "cell_type": "markdown",
   "id": "fa20e44c",
   "metadata": {},
   "source": [
    "##### Graphiques"
   ]
  },
  {
   "cell_type": "code",
   "execution_count": null,
   "id": "cee62d3e",
   "metadata": {},
   "outputs": [],
   "source": [
    "#cercle des corrélations\n",
    "my_pca.correlation_circle(num_x_axis=1, num_y_axis=2)\n"
   ]
  },
  {
   "cell_type": "code",
   "execution_count": null,
   "id": "facf5eb2",
   "metadata": {},
   "outputs": [],
   "source": [
    "#Graphe des individus\n",
    "my_pca.mapping_row(num_x_axis=1, num_y_axis=2,figsize=(13,13))\n"
   ]
  },
  {
   "cell_type": "code",
   "execution_count": null,
   "id": "56e18e35",
   "metadata": {},
   "outputs": [],
   "source": [
    "#Graphe des individus et des variables\n",
    "my_pca.mapping(num_x_axis = 1  , num_y_axis= 2,figsize=(13,13))\n"
   ]
  },
  {
   "cell_type": "markdown",
   "id": "be02b25c",
   "metadata": {},
   "source": [
    "## <font color='blue'>Méthode AFC</font>"
   ]
  },
  {
   "cell_type": "code",
   "execution_count": 125,
   "id": "df6a3782",
   "metadata": {},
   "outputs": [],
   "source": [
    "#Data frame d'AFC contient des variables qualitatives\n",
    "afc_pd = {\n",
    "    'country' : df['country'], \n",
    "    'worldrank' : df['world_rank']\n",
    "}\n",
    "\n",
    "df_afc = pd.DataFrame(afc_pd)"
   ]
  },
  {
   "cell_type": "code",
   "execution_count": null,
   "id": "203903b9",
   "metadata": {},
   "outputs": [],
   "source": [
    "#convert la variable world_rank a une variable qualitatives \n",
    "#si world_rank est inférieur à 50 donc c'est classement Top\n",
    "#si world_rank est compris entre 50 et 100 donc c'est classement Middle\n",
    "#si world_rank est supérieus à 100 donc c'est classement Low level\n",
    "\n",
    "from pandas._libs import index\n",
    "from matplotlib.cbook import index_of\n",
    "for r in df_afc.index : \n",
    "  if df_afc.worldrank[r] <= 50 : \n",
    "    df_afc.worldrank[r] = 'Top'\n",
    "  elif df_afc.worldrank[r] > 50 and df_afc.worldrank[r] < 100 :\n",
    "    df_afc.worldrank[r] = 'Middle' \n",
    "  elif df_afc.worldrank[r] >=  100 :\n",
    "    df_afc.worldrank[r] = 'Low level' \n",
    "\n",
    "df_afc\n"
   ]
  },
  {
   "cell_type": "code",
   "execution_count": null,
   "id": "586d6fef",
   "metadata": {},
   "outputs": [],
   "source": [
    "#table des individus et variables\n",
    "data_crosstab = pd.crosstab(df_afc['country'], \n",
    "                            df_afc['worldrank'],\n",
    "                            margins = False)\n",
    "print(data_crosstab) "
   ]
  },
  {
   "cell_type": "code",
   "execution_count": null,
   "id": "ce4f1eb5",
   "metadata": {},
   "outputs": [],
   "source": [
    "#importation de la librairie\n",
    "from fanalysis.ca import CA\n",
    "\n",
    "#lancer les calculs\n",
    "my_afc = CA(row_labels=data_crosstab.index.values, col_labels=data_crosstab.columns.values)\n",
    "X1 = data_crosstab.to_numpy()\n",
    "my_afc.fit(X1)\n"
   ]
  },
  {
   "cell_type": "markdown",
   "id": "3808df86",
   "metadata": {},
   "source": [
    "##### Analyse des valeurs propres\n"
   ]
  },
  {
   "cell_type": "code",
   "execution_count": null,
   "id": "ff2ea579",
   "metadata": {},
   "outputs": [],
   "source": [
    "#affichage des valeurs propres\n",
    "print(my_afc.eig_)\n"
   ]
  },
  {
   "cell_type": "code",
   "execution_count": null,
   "id": "7b1872f0",
   "metadata": {},
   "outputs": [],
   "source": [
    "#affichage graphique des v.p. \n",
    "my_afc.plot_eigenvalues()"
   ]
  },
  {
   "cell_type": "code",
   "execution_count": null,
   "id": "b5f2ab16",
   "metadata": {
    "scrolled": true
   },
   "outputs": [],
   "source": [
    "#les valeurs propres en pourcentage de la variance totale\n",
    "my_afc.plot_eigenvalues(type=\"percentage\")"
   ]
  },
  {
   "cell_type": "code",
   "execution_count": null,
   "id": "6bda8cb8",
   "metadata": {},
   "outputs": [],
   "source": [
    "#les valeurs propres en pourcentage cumulé de la variance totale\n",
    "my_afc.plot_eigenvalues(type=\"cumulative\")\n"
   ]
  },
  {
   "cell_type": "markdown",
   "id": "eb7a0b7f",
   "metadata": {},
   "source": [
    "##### Extraction des statistiques sur les points lignes\n"
   ]
  },
  {
   "cell_type": "code",
   "execution_count": null,
   "id": "7b3ff5c6",
   "metadata": {},
   "outputs": [],
   "source": [
    "#informations sur les modalités lignes\n",
    "print(my_afc.row_topandas())"
   ]
  },
  {
   "cell_type": "code",
   "execution_count": null,
   "id": "6881d24e",
   "metadata": {},
   "outputs": [],
   "source": [
    "# Classement des points lignes en fonction de leur cos2 sur le 1er axe\n",
    "my_afc.plot_row_cos2(num_axis=1, nb_values=10)\n"
   ]
  },
  {
   "cell_type": "code",
   "execution_count": null,
   "id": "326af419",
   "metadata": {},
   "outputs": [],
   "source": [
    "# Classement des points lignes en fonction de leur contribution au 1er axe\n",
    "my_afc.plot_row_contrib(num_axis=1, nb_values=10)\n"
   ]
  },
  {
   "cell_type": "code",
   "execution_count": null,
   "id": "06a74872",
   "metadata": {},
   "outputs": [],
   "source": [
    "# Classement des points lignes en fonction de leur cos2 sur le 2ème axe\n",
    "my_afc.plot_row_cos2(num_axis=2, nb_values=10)\n"
   ]
  },
  {
   "cell_type": "code",
   "execution_count": null,
   "id": "38d22735",
   "metadata": {},
   "outputs": [],
   "source": [
    "# Classement des points lignes en fonction de leur contribution au 2ème axe\n",
    "my_afc.plot_row_contrib(num_axis=2, nb_values=10)\n"
   ]
  },
  {
   "cell_type": "markdown",
   "id": "1ab79f95",
   "metadata": {},
   "source": [
    "##### Graphiques"
   ]
  },
  {
   "cell_type": "code",
   "execution_count": null,
   "id": "0ee90cb4",
   "metadata": {},
   "outputs": [],
   "source": [
    "# Mapping simultané des points lignes et colonnes\n",
    "my_afc.mapping(num_x_axis=1,num_y_axis=2,figsize=(12,12))"
   ]
  },
  {
   "cell_type": "code",
   "execution_count": null,
   "id": "e2218903",
   "metadata": {},
   "outputs": [],
   "source": [
    "# Mapping des points lignes\n",
    "my_afc.mapping_row(num_x_axis=1, num_y_axis=2,figsize=(8,8))"
   ]
  },
  {
   "cell_type": "code",
   "execution_count": null,
   "id": "40c638c7",
   "metadata": {},
   "outputs": [],
   "source": [
    "# Mapping des points colonnes\n",
    "my_afc.mapping_col(num_x_axis=1, num_y_axis=2,figsize=(8,8))"
   ]
  },
  {
   "cell_type": "markdown",
   "id": "c852e6b1",
   "metadata": {},
   "source": [
    "## <font color='blue'>Méthode ACM</font>"
   ]
  },
  {
   "cell_type": "code",
   "execution_count": 202,
   "id": "391bf3b9",
   "metadata": {},
   "outputs": [],
   "source": [
    "#Data frame utilisé dans la méthode ACP\n",
    "acm_pd = {\n",
    "    'country' : df.country , \n",
    "    'worldrank' : df.world_rank,\n",
    "    'num_students' : df.num_students,\n",
    "\n",
    "    \n",
    "}\n",
    "df_acm = pd.DataFrame(acm_pd)\n"
   ]
  },
  {
   "cell_type": "code",
   "execution_count": null,
   "id": "564ea456",
   "metadata": {},
   "outputs": [],
   "source": [
    "#convert la variable num_students a une variable qualitative \n",
    "\n",
    "for r in df_acm.index : \n",
    "  if df_acm.num_students[r] >= 30.000  : \n",
    "    df_acm.num_students[r] = 'High number'\n",
    "  elif df_acm.num_students[r] < 30.000 and df_acm.num_students[r] > 10.000 :\n",
    "    df_acm.num_students[r] = 'Middle number' \n",
    "  elif df_acm.num_students[r] <= 10.000   :\n",
    "    df_acm.num_students[r] = 'Low number' \n"
   ]
  },
  {
   "cell_type": "code",
   "execution_count": null,
   "id": "1632c407",
   "metadata": {},
   "outputs": [],
   "source": [
    "#convert la variable world_rank a une variable qualitative \n",
    "\n",
    "for r in df_acm.index : \n",
    "  if df_acm.worldrank[r] <= 50 : \n",
    "    df_acm.worldrank[r] = 'Top'\n",
    "  elif df_acm.worldrank[r] > 50 and df_acm.worldrank[r] < 100 :\n",
    "    df_acm.worldrank[r] = 'Middle' \n",
    "  elif df_acm.worldrank[r] >=  100 :\n",
    "    df_acm.worldrank[r] = 'Low level' \n",
    "\n"
   ]
  },
  {
   "cell_type": "code",
   "execution_count": null,
   "id": "6727c579",
   "metadata": {},
   "outputs": [],
   "source": [
    "data_crosstab = pd.crosstab(df_acm['country'], \n",
    "                            [df_acm['worldrank'] , df_acm['num_students'] ],  \n",
    "                               margins = False)\n",
    "data_crosstab"
   ]
  },
  {
   "cell_type": "code",
   "execution_count": null,
   "id": "4b0f73f3",
   "metadata": {},
   "outputs": [],
   "source": [
    "from fanalysis.mca import MCA\n",
    "#instanciation\n",
    "my_acm = CA(row_labels=data_crosstab.index.values, col_labels=data_crosstab.columns.values)\n",
    "\n",
    "#lancer les calculs\n",
    "X3 = data_crosstab.to_numpy()\n",
    "my_acm.fit(X3)\n"
   ]
  },
  {
   "cell_type": "markdown",
   "id": "b61aa209",
   "metadata": {},
   "source": [
    "##### Analyse des valeurs propres\n"
   ]
  },
  {
   "cell_type": "code",
   "execution_count": null,
   "id": "f5b104df",
   "metadata": {},
   "outputs": [],
   "source": [
    "#affichage des valeurs propres\n",
    "print(my_acm.eig_)"
   ]
  },
  {
   "cell_type": "code",
   "execution_count": null,
   "id": "10bc946f",
   "metadata": {},
   "outputs": [],
   "source": [
    "#affichage graphique des v.p. \n",
    "my_acm.plot_eigenvalues()"
   ]
  },
  {
   "cell_type": "code",
   "execution_count": null,
   "id": "6c503e4e",
   "metadata": {},
   "outputs": [],
   "source": [
    "#les valeurs propres en pourcentage de la variance totale\n",
    "my_acm.plot_eigenvalues(type=\"percentage\")\n"
   ]
  },
  {
   "cell_type": "code",
   "execution_count": null,
   "id": "2f7111d0",
   "metadata": {},
   "outputs": [],
   "source": [
    "#les valeurs propres en pourcentage cumulé de la variance totale\n",
    "my_acm.plot_eigenvalues(type=\"cumulative\")\n"
   ]
  },
  {
   "cell_type": "markdown",
   "id": "6443224d",
   "metadata": {},
   "source": [
    "##### Extraction des statistiques sur les points colonnes\n"
   ]
  },
  {
   "cell_type": "code",
   "execution_count": null,
   "id": "159868ab",
   "metadata": {},
   "outputs": [],
   "source": [
    "#informations sur les modalités colonnes\n",
    "print(my_acm.col_topandas())"
   ]
  },
  {
   "cell_type": "markdown",
   "id": "1829c5fa",
   "metadata": {},
   "source": [
    "##### Extraction des statistiques sur les points lignes\n"
   ]
  },
  {
   "cell_type": "code",
   "execution_count": null,
   "id": "38655da4",
   "metadata": {},
   "outputs": [],
   "source": [
    "#informations sur les modalités lignes\n",
    "print(my_acm.row_topandas())"
   ]
  },
  {
   "cell_type": "code",
   "execution_count": null,
   "id": "84098781",
   "metadata": {},
   "outputs": [],
   "source": [
    "# Classement des points lignes en fonction de leur cos2 sur le 1er axe\n",
    "my_acm.plot_row_cos2(num_axis=1, nb_values=10)\n"
   ]
  },
  {
   "cell_type": "code",
   "execution_count": null,
   "id": "af1c098b",
   "metadata": {},
   "outputs": [],
   "source": [
    "# Classement des points lignes en fonction de leur contrib sur le 1er axe\n",
    "my_acm.plot_row_contrib(num_axis=1, nb_values=10)\n"
   ]
  },
  {
   "cell_type": "code",
   "execution_count": null,
   "id": "4d850b8d",
   "metadata": {},
   "outputs": [],
   "source": [
    "# Classement des points lignes en fonction de leur cos2 sur le 2eme axe\n",
    "my_acm.plot_row_cos2(num_axis=2, nb_values=10)\n"
   ]
  },
  {
   "cell_type": "code",
   "execution_count": null,
   "id": "40f6aaea",
   "metadata": {},
   "outputs": [],
   "source": [
    "# Classement des points lignes en fonction de leur contrib sur le 2eme axe\n",
    "my_acm.plot_row_contrib(num_axis=2, nb_values=10)\n"
   ]
  },
  {
   "cell_type": "markdown",
   "id": "585f0929",
   "metadata": {},
   "source": [
    "##### Graphiques"
   ]
  },
  {
   "cell_type": "code",
   "execution_count": null,
   "id": "a80d49c2",
   "metadata": {},
   "outputs": [],
   "source": [
    "# Graphique des modatités colonnes\n",
    "\n",
    "fig, ax = plt.subplots(figsize=(10,10))\n",
    "ax.axis([-3,+3,-3,+3])\n",
    "ax.plot([-3,+3],[0,0],color='blue',linestyle='--')\n",
    "ax.plot([0,0],[-3,+3],color='blue',linestyle='--')\n",
    "ax.set_xlabel(\"Dim.1 \")\n",
    "ax.set_ylabel(\"Dim.2 \")\n",
    "plt.title(\"Carte des modalités colonnes\")\n",
    "\n",
    "for i in range(data_crosstab.shape[1]):\n",
    "    ax.text(my_acm.col_coord_[i,0],my_acm.col_coord_[i,1],data_crosstab.columns[i])\n",
    "plt.show()"
   ]
  },
  {
   "cell_type": "code",
   "execution_count": null,
   "id": "8089d821",
   "metadata": {},
   "outputs": [],
   "source": [
    "# Graphique des modatités lignes\n",
    "fig, ax = plt.subplots(figsize=(12,12))\n",
    "ax.axis([-3,+3,-3,+3])\n",
    "ax.plot([-3,+3],[0,0],color='red',linestyle='--')\n",
    "ax.plot([0,0],[-3,+3],color='red',linestyle='--')\n",
    "ax.set_xlabel(\"Dim.1 \")\n",
    "ax.set_ylabel(\"Dim.2\")\n",
    "plt.title(\"Carte des modalités lignes\")\n",
    "for i in range(data_crosstab.shape[0]):\n",
    " ax.text(my_acm.row_coord_[i,0],my_acm.row_coord_[i,1],data_crosstab.index[i])\n",
    "\n",
    "plt.show()"
   ]
  },
  {
   "cell_type": "code",
   "execution_count": null,
   "id": "c41657d2",
   "metadata": {},
   "outputs": [],
   "source": [
    "#représentation simultanée\n",
    "fig, ax = plt.subplots(figsize=(15,15))\n",
    "ax.axis([-3,+3,-3,+3])\n",
    "ax.plot([-4,+4],[0,0],color='silver',linestyle='--')\n",
    "ax.plot([0,0],[-4,+4],color='silver',linestyle='--')\n",
    "ax.set_xlabel(\"Dim.1\")\n",
    "ax.set_ylabel(\"Dim.2\")\n",
    "plt.title(\"Carte des modalités lignes et colonnes\")\n",
    "#modalités ligne\n",
    "for i in range(data_crosstab.shape[0]):\n",
    " ax.text(my_acm.row_coord_[i,0],my_acm.row_coord_[i,1],data_crosstab.index[i],color='blue')\n",
    "#modalités colonne\n",
    "for i in range(data_crosstab.shape[1]):\n",
    " ax.text(my_acm.col_coord_[i,0],my_acm.col_coord_[i,1],data_crosstab.columns[i],color='red')\n",
    "\n",
    "plt.show()"
   ]
  }
 ],
 "metadata": {
  "kernelspec": {
   "display_name": "Python 3.10.6 64-bit (windows store)",
   "language": "python",
   "name": "python3"
  },
  "language_info": {
   "codemirror_mode": {
    "name": "ipython",
    "version": 3
   },
   "file_extension": ".py",
   "mimetype": "text/x-python",
   "name": "python",
   "nbconvert_exporter": "python",
   "pygments_lexer": "ipython3",
   "version": "3.10.6"
  },
  "vscode": {
   "interpreter": {
    "hash": "58dbfdb34cf82127b32c5737e6183911655ff227e5c11e8f5e4b25048ae98ef2"
   }
  }
 },
 "nbformat": 4,
 "nbformat_minor": 5
}
